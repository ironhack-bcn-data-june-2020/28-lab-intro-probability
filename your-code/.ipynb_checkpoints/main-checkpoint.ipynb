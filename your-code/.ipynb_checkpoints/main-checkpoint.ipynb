{
 "cells": [
  {
   "cell_type": "markdown",
   "metadata": {},
   "source": [
    "# Challenge 1\n",
    "\n",
    "A and B are events of a certain probability space $(\\omega, \\sigma, P)$ such that $P(A) = 0.3$, $P(B) = 0.6$ and $P(A \\cap B) = 0.1$.\n",
    "\n",
    "Which are false?\n",
    "* $P(A \\cup B) = 0.6$\n",
    "* $P(A \\cap B^{C}) = 0.2$\n",
    "* $P(A \\cap (B \\cup B^{C})) = 0.4$\n",
    "* $P(A^{C} \\cap B^{C}) = 0.3$\n",
    "* $P((A \\cap B)^{C}) = 0.9$"
   ]
  },
  {
   "cell_type": "code",
   "execution_count": 3,
   "metadata": {},
   "outputs": [
    {
     "data": {
      "text/plain": [
       "'TRUE - This is 1 - 0.1 = 0.9'"
      ]
     },
     "execution_count": 3,
     "metadata": {},
     "output_type": "execute_result"
    }
   ],
   "source": [
    "# Probability of A union B is P(A) + P(B) - 𝑃(𝐴∩𝐵) which is 0.3 + 0.6 - 0.1 = 0.8:\n",
    "\"\"\"FALSE\"\"\"\n",
    "# Probability of A intersection with the opposite of probability of B is 0.2 : \n",
    "\"\"\"TRUE - Complementary of B(0.4) intersects with A in (A - 𝐴∩𝐵) which is 0.2\"\"\"\n",
    "# Probability of A intersection with B union the opposite of B. In this case B union with its contrary is 1, because is the entire universe. \n",
    "\"\"\"FALSE - In this case the intersection of A with B and its contrary is A itself, which is 0.3 \"\"\"\n",
    "# Probability of A contrary intersection B contrary will be the 1-(𝐴∩𝐵) \n",
    "\"\"\"FALSE - This is 1 - 0.8 = 0.2'\"\"\"\n",
    "# Probability of the contrary of A intersetion B is 0.9\n",
    "\"\"\"TRUE - This is 1 - 0.1 = 0.9\"\"\""
   ]
  },
  {
   "cell_type": "markdown",
   "metadata": {},
   "source": [
    "# Challenge 2\n",
    "We have an urn with 10 white balls, 12 red balls and 8 black balls. Calculate the probability of:\n",
    "* Taking a white ball.\n",
    "* Taking a white ball after taking a black ball.\n",
    "* Taking a red ball after taking a black and a red ball.\n",
    "* Taking a red ball after taking a black and a red ball with reposition (that means after taking a ball I put it back to the urn).\n"
   ]
  },
  {
   "cell_type": "code",
   "execution_count": 6,
   "metadata": {},
   "outputs": [
    {
     "data": {
      "text/plain": [
       "' 12/30 * 8/30 * 12/30 = 0.04266666666666667'"
      ]
     },
     "execution_count": 6,
     "metadata": {},
     "output_type": "execute_result"
    }
   ],
   "source": [
    "#Probability of taking a white ball \n",
    "\"\"\"10/30 is the probability, because there are 10 white balls and 30 total balls in the urn\"\"\"\n",
    "\n",
    "#Probability of taking a white ball after taking a black ball\n",
    "\"\"\"12/30 * 8/29 = 96/870 | 16/145 \"\"\"\n",
    "\n",
    "#Probability of taking a red ball after taking a black and a red ball\n",
    "\"\"\" 12/30 * 8/29 * 11/28 = 0.04334975369458128 \"\"\"\n",
    "\n",
    "#Probability of taking a red ball after taking a black and a red ball with reposition \n",
    "\"\"\" 12/30 * 8/30 * 12/30 = 0.04266666666666667\"\"\""
   ]
  },
  {
   "cell_type": "markdown",
   "metadata": {},
   "source": [
    "# Challenge 3\n",
    "\n",
    "You are planning a picnic today, but the morning is cloudy. So you look for some data:\n",
    "* 50% of all rainy days start off cloudy!\n",
    "* But cloudy mornings are common (about 40% of days start cloudy)\n",
    "* And this is usually a dry month (only 3 of 30 days (10%) tend to be rainy)\n",
    "\n",
    "What is the chance of rain during the day?\n",
    "\n"
   ]
  },
  {
   "cell_type": "code",
   "execution_count": 11,
   "metadata": {},
   "outputs": [
    {
     "data": {
      "text/plain": [
       "('The probability that is going to rain during the day is', 0.125)"
      ]
     },
     "execution_count": 11,
     "metadata": {},
     "output_type": "execute_result"
    }
   ],
   "source": [
    "#P(rains|when its cloudy) = [P(cloudy|rains)* P(rains)] / P(clouds) - Bayes theorem\n",
    "\"\"\"P(cloudy|rains)= 0.5 The probability that rains and its cloudy is 50%\n",
    "P(rains) = 10% - 0.1\n",
    "P(clouds) = 0.4\"\"\"\n",
    "\n",
    "P = (0.5 * 0.1)/0.4\n",
    "\"\"\"The probability that is going to rain during the day is\"\"\", P"
   ]
  },
  {
   "cell_type": "markdown",
   "metadata": {},
   "source": [
    "# Challenge 4\n",
    "\n",
    "By conducting a telephone survey, we asked 1000 people if they thought it is necessary to have more street lighting at night.\n",
    "\n",
    "We have met 480 men, 324 of which answered yes and 156 no, as well as 520 women, 351 of which answered yes and 169 no. We wonder if men and women have a different opinion or if gender is irrelevant to the question.\n",
    "\n",
    "(To see more clearly what they told us, it is best to place the data in a table)\n",
    "\n",
    "\n",
    "Consider the following events:\n",
    "- Wants more light (answered yes)\n",
    "- A man answered\n",
    "\n",
    "\n",
    "We ask ourselves if these events are independent, that is, if the fact of wanting more light depends on whether one is male or female. Are these events independent or not?"
   ]
  },
  {
   "cell_type": "code",
   "execution_count": 20,
   "metadata": {},
   "outputs": [
    {
     "data": {
      "text/html": [
       "<div>\n",
       "<style scoped>\n",
       "    .dataframe tbody tr th:only-of-type {\n",
       "        vertical-align: middle;\n",
       "    }\n",
       "\n",
       "    .dataframe tbody tr th {\n",
       "        vertical-align: top;\n",
       "    }\n",
       "\n",
       "    .dataframe thead th {\n",
       "        text-align: right;\n",
       "    }\n",
       "</style>\n",
       "<table border=\"1\" class=\"dataframe\">\n",
       "  <thead>\n",
       "    <tr style=\"text-align: right;\">\n",
       "      <th></th>\n",
       "      <th>Gender</th>\n",
       "      <th>Yes</th>\n",
       "      <th>No</th>\n",
       "      <th>Total</th>\n",
       "    </tr>\n",
       "  </thead>\n",
       "  <tbody>\n",
       "    <tr>\n",
       "      <th>0</th>\n",
       "      <td>Man</td>\n",
       "      <td>0.675</td>\n",
       "      <td>0.325</td>\n",
       "      <td>480</td>\n",
       "    </tr>\n",
       "    <tr>\n",
       "      <th>1</th>\n",
       "      <td>Women</td>\n",
       "      <td>0.675</td>\n",
       "      <td>0.325</td>\n",
       "      <td>520</td>\n",
       "    </tr>\n",
       "  </tbody>\n",
       "</table>\n",
       "</div>"
      ],
      "text/plain": [
       "  Gender    Yes     No  Total\n",
       "0    Man  0.675  0.325    480\n",
       "1  Women  0.675  0.325    520"
      ]
     },
     "execution_count": 20,
     "metadata": {},
     "output_type": "execute_result"
    }
   ],
   "source": [
    "# 1000 thousand people is the sample\n",
    "# 480 men - 324 answered yes / 156 answered no \n",
    "# 520 women - 351 answered yes and 169 answered no \n",
    "\n",
    "import pandas as pd \n",
    "import numpy as np\n",
    "\n",
    "data = [['Man', 324/480,156/480, 480], ['Women', 351/520,169/520, 520]] \n",
    "# We are calculating the proportion for each gender, so how many man said yes out of the total, versus no and the same with women\n",
    "\n",
    "\n",
    "# Create the pandas DataFrame \n",
    "df = pd.DataFrame(data, columns = ['Gender', 'Yes','No', 'Total']) \n",
    "df"
   ]
  },
  {
   "cell_type": "code",
   "execution_count": 22,
   "metadata": {},
   "outputs": [],
   "source": [
    "#the events are independent because as we can see there are the same women and men saying yes and same man and women saying no. \n"
   ]
  }
 ],
 "metadata": {
  "kernelspec": {
   "display_name": "Python 3",
   "language": "python",
   "name": "python3"
  },
  "language_info": {
   "codemirror_mode": {
    "name": "ipython",
    "version": 3
   },
   "file_extension": ".py",
   "mimetype": "text/x-python",
   "name": "python",
   "nbconvert_exporter": "python",
   "pygments_lexer": "ipython3",
   "version": "3.8.2"
  }
 },
 "nbformat": 4,
 "nbformat_minor": 2
}
