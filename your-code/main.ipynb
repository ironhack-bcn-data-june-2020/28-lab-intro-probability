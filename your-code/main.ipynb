{
 "cells": [
  {
   "cell_type": "markdown",
   "metadata": {},
   "source": [
    "# Challenge 1\n",
    "\n",
    "A and B are events of a certain probability space $(\\omega, \\sigma, P)$ such that $P(A) = 0.3$, $P(B) = 0.6$ and $P(A \\cap B) = 0.1$.\n",
    "\n",
    "Which are false?\n",
    "* $P(A \\cup B) = 0.6$\n",
    "* $P(A \\cap B^{C}) = 0.2$\n",
    "* $P(A \\cap (B \\cup B^{C})) = 0.4$\n",
    "* $P(A^{C} \\cap B^{C}) = 0.3$\n",
    "* $P((A \\cap B)^{C}) = 0.9$"
   ]
  },
  {
   "cell_type": "markdown",
   "metadata": {},
   "source": [
    "\n",
    "\n",
    "\n",
    "\n",
    "$P(A \\cup B) = 0.6$ FALSE: 0.3 + 0.6 -0.1 = 0.8\n",
    "\n",
    "$P(A \\cap B^{C})$ = 0.2 TRUE: 0.3 - 0.1 = 0.2\n",
    "   \n",
    "$P(A \\cap (B \\cup B^{C}))$ = 0.4 FALSE: P(0.3 -1) = 0.7\n",
    "    \n",
    "$P(A^{C} \\cap B^{C})$ = 0.3 TRUE : P(0.4 - 0.7) = 0.3\n",
    "    \n",
    "$P((A \\cap B)^{C})$ = 0.9 TRUE: P(1-0.1) = 0.9"
   ]
  },
  {
   "cell_type": "markdown",
   "metadata": {},
   "source": []
  },
  {
   "cell_type": "markdown",
   "metadata": {},
   "source": [
    "# Challenge 2\n",
    "We have an urn with 10 white balls, 12 red balls and 8 black balls. Calculate the probability of:\n",
    "* Taking a white ball.\n",
    "* Taking a white ball after taking a black ball.\n",
    "* Taking a red ball after taking a black and a red ball.\n",
    "* Taking a red ball after taking a black and a red ball with reposition (that means after taking a ball I put it back to the urn).\n"
   ]
  },
  {
   "cell_type": "markdown",
   "metadata": {},
   "source": [
    "P (Taking a white ball):\n",
    "\n",
    "10/30 = 1/3\n",
    "\n",
    "P(Taking a white ball after taking a black ball):\n",
    "\n",
    "10/29\n",
    "\n",
    "P(Taking a red ball after taking a black and a red ball):\n",
    "\n",
    "11/28\n",
    "\n",
    "P(Taking a red ball after taking a black and a red ball with reposition (that means after taking a ball I put it back to the urn)):\n",
    "\n",
    "12/30 = 2/5\n",
    "\n"
   ]
  },
  {
   "cell_type": "markdown",
   "metadata": {},
   "source": [
    "# Challenge 3\n",
    "\n",
    "You are planning a picnic today, but the morning is cloudy. So you look for some data:\n",
    "* 50% of all rainy days start off cloudy!\n",
    "* But cloudy mornings are common (about 40% of days start cloudy)\n",
    "* And this is usually a dry month (only 3 of 30 days (10%) tend to be rainy)\n",
    "\n",
    "What is the chance of rain during the day?\n",
    "\n"
   ]
  },
  {
   "cell_type": "markdown",
   "metadata": {},
   "source": [
    "P (cloudy|rain) = 0.5\n",
    "P (cloudy) = 0.4\n",
    "P (rain) = 0.10\n",
    "\n",
    "P (rain|cloudy) = P (rain) * P(cloudy|rain)/P(cloudy) = 0.125"
   ]
  },
  {
   "cell_type": "markdown",
   "metadata": {},
   "source": [
    "# Challenge 4\n",
    "\n",
    "By conducting a telephone survey, we asked 1000 people if they thought it is necessary to have more street lighting at night.\n",
    "\n",
    "We have met 480 men, 324 of which answered yes and 156 no, as well as 520 women, 351 of which answered yes and 169 no. We wonder if men and women have a different opinion or if gender is irrelevant to the question.\n",
    "\n",
    "(To see more clearly what they told us, it is best to place the data in a table)\n",
    "\n",
    "\n",
    "Consider the following events:\n",
    "- Wants more light (answered yes)\n",
    "- A man answered\n",
    "\n",
    "\n",
    "We ask ourselves if these events are independent, that is, if the fact of wanting more light depends on whether one is male or female. Are these events independent or not?"
   ]
  },
  {
   "cell_type": "code",
   "execution_count": 5,
   "metadata": {},
   "outputs": [],
   "source": [
    "import pandas as pd\n"
   ]
  },
  {
   "cell_type": "code",
   "execution_count": 16,
   "metadata": {},
   "outputs": [
    {
     "data": {
      "text/html": [
       "<div>\n",
       "<style scoped>\n",
       "    .dataframe tbody tr th:only-of-type {\n",
       "        vertical-align: middle;\n",
       "    }\n",
       "\n",
       "    .dataframe tbody tr th {\n",
       "        vertical-align: top;\n",
       "    }\n",
       "\n",
       "    .dataframe thead th {\n",
       "        text-align: right;\n",
       "    }\n",
       "</style>\n",
       "<table border=\"1\" class=\"dataframe\">\n",
       "  <thead>\n",
       "    <tr style=\"text-align: right;\">\n",
       "      <th></th>\n",
       "      <th>Yes</th>\n",
       "      <th>No</th>\n",
       "      <th>Total</th>\n",
       "    </tr>\n",
       "  </thead>\n",
       "  <tbody>\n",
       "    <tr>\n",
       "      <th>Men</th>\n",
       "      <td>0.324</td>\n",
       "      <td>0.156</td>\n",
       "      <td>0.48</td>\n",
       "    </tr>\n",
       "    <tr>\n",
       "      <th>Women</th>\n",
       "      <td>0.351</td>\n",
       "      <td>0.169</td>\n",
       "      <td>0.52</td>\n",
       "    </tr>\n",
       "    <tr>\n",
       "      <th>Total</th>\n",
       "      <td>0.675</td>\n",
       "      <td>0.325</td>\n",
       "      <td>1.00</td>\n",
       "    </tr>\n",
       "  </tbody>\n",
       "</table>\n",
       "</div>"
      ],
      "text/plain": [
       "         Yes     No  Total\n",
       "Men    0.324  0.156   0.48\n",
       "Women  0.351  0.169   0.52\n",
       "Total  0.675  0.325   1.00"
      ]
     },
     "execution_count": 16,
     "metadata": {},
     "output_type": "execute_result"
    }
   ],
   "source": [
    "pd.DataFrame({\"Yes\": [324/1000, 351/1000, (324/1000 + 351/1000)], \"No\": [156/1000, 169/1000, (156/1000 + 169/1000)], \"Total\": [(324/1000) + (156/1000), (351/1000) + (169/1000), (324/1000 + 351/1000) + (156/1000 + 169/1000)]}, index=[\"Men\", \"Women\", \"Total\"])"
   ]
  },
  {
   "cell_type": "markdown",
   "metadata": {},
   "source": [
    "The events are independent. "
   ]
  },
  {
   "cell_type": "markdown",
   "metadata": {},
   "source": [
    "P(Men) = 0.48"
   ]
  },
  {
   "cell_type": "markdown",
   "metadata": {},
   "source": [
    "P(Yes) = 0.675"
   ]
  },
  {
   "cell_type": "markdown",
   "metadata": {},
   "source": [
    "P(Yes|Man) = $P(Yes \\cap Men )$ / P(Men)= 0.324/0.48 = 0.675 which is equal to P(Yes), this means the gender doesn't affect if they want more light or not, they are independent events. "
   ]
  },
  {
   "cell_type": "code",
   "execution_count": null,
   "metadata": {},
   "outputs": [],
   "source": []
  }
 ],
 "metadata": {
  "kernelspec": {
   "display_name": "Python 3",
   "language": "python",
   "name": "python3"
  },
  "language_info": {
   "codemirror_mode": {
    "name": "ipython",
    "version": 3
   },
   "file_extension": ".py",
   "mimetype": "text/x-python",
   "name": "python",
   "nbconvert_exporter": "python",
   "pygments_lexer": "ipython3",
   "version": "3.8.3"
  }
 },
 "nbformat": 4,
 "nbformat_minor": 2
}
