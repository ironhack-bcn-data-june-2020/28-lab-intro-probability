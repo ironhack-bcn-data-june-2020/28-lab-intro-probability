{
 "cells": [
  {
   "cell_type": "markdown",
   "metadata": {},
   "source": [
    "# Challenge 1\n",
    "\n",
    "A and B are events of a certain probability space $(\\omega, \\sigma, P)$ such that $P(A) = 0.3$, $P(B) = 0.6$ and $P(A \\cap B) = 0.1$. B^{C} = 0.4 . A^{C}= 0.7\n",
    "\n",
    "Which are false?\n",
    "* $P(A \\cup B) = 0.6$ - P(0.3) + P(0.6) = 0.9 Esta es FALSA\n",
    "* $P(A \\cap B^{C}) = 0.2$ -- P(1-0.6) = 0.4 - 0.3 = 0.1 Esta es FALSA\n",
    "* $P(A \\cap (B \\cup B^{C})) = 0.4$ -- P(0.3 - (0.6 + 0.4)= P(0.3 - 1)=0.7 Esta es FALSA\n",
    "* $P(A^{C} \\cap B^{C}) = 0.3$ --- P(0.4 - 0.7)= 0.3 Esta es VERDADERA\n",
    "* $P((A \\cap B)^{C}) = 0.9$---- 1- 0.1 = 0.9 Esta es VERDADERA"
   ]
  },
  {
   "cell_type": "markdown",
   "metadata": {},
   "source": [
    "# Challenge 2\n",
    "We have an urn with 10 white balls, 12 red balls and 8 black balls. Calculate the probability of:\n",
    "* Taking a white ball.\n",
    "* Taking a white ball after taking a black ball.\n",
    "* Taking a red ball after taking a black and a red ball.\n",
    "* Taking a red ball after taking a black and a red ball with reposition (that means after taking a ball I put it back to the urn).\n"
   ]
  },
  {
   "cell_type": "markdown",
   "metadata": {},
   "source": [
    "Nro de casos posibles= 30 (10 white balls + 12 red balls + 8 black balls) \n",
    "\n",
    "## * Taking a white ball\n",
    "\n",
    "La probabilidad de sacar un bola blanca es de 33.33 %:\n",
    "10/30 = 0.3333 y lo multiplicamos por 100 para expresarlo en porcentaje.\n",
    "\n",
    "## * Taking a white ball after taking a black ball\n",
    "\n",
    "la probabilidad de sacar un bola blanca luego de sacar un negra es de 34.48 % \n",
    "8/30 para sacar una negra\n",
    "10/29 luego de haber sacado una negra es de 0.3448 *100 para expresarlo en porcentaje = 34.48%\n",
    "\n",
    "## * Taking a red ball after taking a black and a red ball.\n",
    "La probabilidad de sacar una bola roja luego de haber sacado una negra y una roja es de 39.28 %\n",
    "8/30 para sacar una negra\n",
    "12/29 para sacar la primera bola roja\n",
    "11/28 para sacar la segunda bola roja es de 0.3928 *100 para expresarlo en porcentaje es de 39.28 %\n",
    "\n",
    "## * Taking a red ball after taking a black and a red ball with reposition (that means after taking a ball I put it back to the urn).\n",
    "\n",
    "La probabilidad de sacar un bola roja luego de sacar una negra y reponiendo las rojas es de 41.37 %\n",
    "8/30 para sacar una negra\n",
    "12/29 para sacar la primera bola roja\n",
    "12/29 para sacar la segunda bola roja ya que la repusimos para volver a sacarla es de 0.4137 *100 para expresarlo en porcentaje es de 41.37 %\n",
    "\n",
    "\n",
    "\n"
   ]
  },
  {
   "cell_type": "markdown",
   "metadata": {},
   "source": [
    "# Challenge 3\n",
    "\n",
    "You are planning a picnic today, but the morning is cloudy. So you look for some data:\n",
    "* 50% of all rainy days start off cloudy!\n",
    "* But cloudy mornings are common (about 40% of days start cloudy)\n",
    "* And this is usually a dry month (only 3 of 30 days (10%) tend to be rainy)\n",
    "\n",
    "What is the chance of rain during the day?\n",
    "\n"
   ]
  },
  {
   "cell_type": "markdown",
   "metadata": {},
   "source": [
    "La probabilidad de que llueva es de 12.5 %\n",
    "\n",
    "Probabilidad de lluvia es del 10 % = 0.1\n",
    "probabilidad de un dia nublado es de 40 % = 0.4\n",
    "La probabilidad de que llueva dado que esta nublado es del 50 % = 0.5\n",
    "\n",
    "por el teorema de bayes decimos que \n",
    "\n",
    "P(Llueva|Nublado) = P(Llueve) * P(Nublado|Llueva) / P(Nublado) = P (0.1) * P (0.5) / P(0.4) = 0.125 *100 = 12.5 %"
   ]
  },
  {
   "cell_type": "markdown",
   "metadata": {},
   "source": [
    "# Challenge 4\n",
    "\n",
    "By conducting a telephone survey, we asked 1000 people if they thought it is necessary to have more street lighting at night.\n",
    "\n",
    "We have met 480 men, 324 of which answered yes and 156 no, as well as 520 women, 351 of which answered yes and 169 no. We wonder if men and women have a different opinion or if gender is irrelevant to the question.\n",
    "\n",
    "(To see more clearly what they told us, it is best to place the data in a table)\n",
    "\n",
    "\n",
    "Consider the following events:\n",
    "- Wants more light (answered yes)\n",
    "- A man answered\n",
    "\n",
    "\n",
    "We ask ourselves if these events are independent, that is, if the fact of wanting more light depends on whether one is male or female. Are these events independent or not?"
   ]
  },
  {
   "cell_type": "markdown",
   "metadata": {},
   "source": [
    " no entiendo el ejercicio xD\n",
    " \n",
    " se le hizo una encuesta a 1000 personas \n",
    " 480 hombres - 324 dijero que si y 156 dijeron que no en porcentaje seria 324/480 = 67.5 % de los hombres dijeron que si\n",
    " 520 mujeres 351 dijeron que si y 169 dijeron que no en porcentaje seria 351/520 = 67.5% de las mujeres dijeron que si\n",
    " \n",
    "ambos porcentajes son iguales por sexo po lo que dire que son independientes la cantidad de si por cada lado tanto mujeres como hombres.\n",
    " \n",
    " "
   ]
  }
 ],
 "metadata": {
  "kernelspec": {
   "display_name": "Python 3",
   "language": "python",
   "name": "python3"
  },
  "language_info": {
   "codemirror_mode": {
    "name": "ipython",
    "version": 3
   },
   "file_extension": ".py",
   "mimetype": "text/x-python",
   "name": "python",
   "nbconvert_exporter": "python",
   "pygments_lexer": "ipython3",
   "version": "3.7.6"
  }
 },
 "nbformat": 4,
 "nbformat_minor": 2
}
