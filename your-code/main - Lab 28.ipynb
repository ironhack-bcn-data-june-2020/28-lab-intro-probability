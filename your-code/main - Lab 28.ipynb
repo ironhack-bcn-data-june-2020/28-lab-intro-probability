{
 "cells": [
  {
   "cell_type": "markdown",
   "metadata": {},
   "source": [
    "# Challenge 1\n",
    "\n",
    "A and B are events of a certain probability space $(\\omega, \\sigma, P)$ such that $P(A) = 0.3$, $P(B) = 0.6$ and $P(A \\cap B) = 0.1$.\n",
    "\n",
    "Which are false?\n",
    "\n",
    "A. $P(A \\cup B) = 0.6$\n",
    "\n",
    "B. $P(A \\cap B^{C}) = 0.2$\n",
    "\n",
    "C. $P(A \\cap (B \\cup B^{C})) = 0.4$\n",
    "\n",
    "D. $P(A^{C} \\cap B^{C}) = 0.3$\n",
    "\n",
    "E. $P((A \\cap B)^{C}) = 0.9$"
   ]
  },
  {
   "cell_type": "code",
   "execution_count": 1,
   "metadata": {
    "ExecuteTime": {
     "end_time": "2020-09-09T19:38:41.674493Z",
     "start_time": "2020-09-09T19:38:41.068737Z"
    }
   },
   "outputs": [],
   "source": [
    "#Importar librerías\n",
    "\n",
    "import scipy.special as ss\n",
    "import scipy.stats as stats\n",
    "\n",
    "import itertools"
   ]
  },
  {
   "cell_type": "code",
   "execution_count": null,
   "metadata": {},
   "outputs": [],
   "source": [
    "#Los eventos son dependientes porque si no lo fueran: 0.3 * 0.6 y eso no me daría 0.1, sino 0.18"
   ]
  },
  {
   "cell_type": "code",
   "execution_count": null,
   "metadata": {},
   "outputs": [],
   "source": [
    "#Ejercicio A:\n",
    "\n",
    "#La P(𝐴 ∪ 𝐵) -la unión de A y B- se calcula P(A) + P(B) - P(A y B) \n",
    "#Sería 0,3 + 0,6 - 0,1 = 0,9 - 0,1 = 0,8\n",
    "\n",
    "#Así que A es falso, ya que el resultado es 0,8 y no 0,6"
   ]
  },
  {
   "cell_type": "code",
   "execution_count": null,
   "metadata": {},
   "outputs": [],
   "source": [
    "#Ejercicio B:\n",
    "\n",
    "#La 𝑃(𝐴 ∩ no𝐵) -la intersección de A y B complementaria- se calcula P(A) * (P(B)complementario)\n",
    "\n",
    "#Sería 0,3 - 0,1 (que es la intersección de A y B) = 0,2\n",
    "\n",
    "#Es correcto!"
   ]
  },
  {
   "cell_type": "code",
   "execution_count": null,
   "metadata": {},
   "outputs": [],
   "source": [
    "#Ejercicio C:\n",
    "\n",
    "#La 𝑃(𝐴 ∩ (𝐵 ∪ no𝐵)) -la intersección de A con la unión de B y noB - es AS, ya que B unión noB es 1.\n",
    "\n",
    "#Así que es falso, ya que el resultado es 1 y no 0.4"
   ]
  },
  {
   "cell_type": "code",
   "execution_count": 2,
   "metadata": {
    "ExecuteTime": {
     "end_time": "2020-09-09T20:05:47.022307Z",
     "start_time": "2020-09-09T20:05:47.020567Z"
    }
   },
   "outputs": [],
   "source": [
    "#Ejercicio D:\n",
    "\n",
    "#La P(no𝐴 ∩ no𝐵) - la intersección de noA y noB- no se calcula 0,7 (noA) * 0,4 (noB) = 0,28 pq los eventos son dependientes\n",
    "\n",
    "#Ley de Morgan: no(A unión B) = noA intersección noB\n",
    "\n",
    "#Sería 1 - (A unión B) = 1 - (A + B - (A y B)) = 1 - (0,3 + 0,6 - 0,1) = 1 - 0,8 = 0,2\n",
    "\n",
    "#Es FALSO por que da 0,2 no 0,3"
   ]
  },
  {
   "cell_type": "code",
   "execution_count": null,
   "metadata": {},
   "outputs": [],
   "source": [
    "#Ejercicio E:\n",
    "\n",
    "# 𝑃(no (𝐴∩𝐵)) = 0,9 - el complementario de la intersección entre A y B - sería 1 - 0,1, que da 0,9 \n",
    "\n",
    "#Es CORRECTO!"
   ]
  },
  {
   "cell_type": "markdown",
   "metadata": {},
   "source": [
    "# Challenge 2\n",
    "We have an urn with 10 white balls, 12 red balls and 8 black balls. Calculate the probability of:\n",
    "\n",
    "A.  Taking a white ball.\n",
    "\n",
    "B. Taking a white ball after taking a black ball.\n",
    "\n",
    "C. Taking a red ball after taking a black and a red ball.\n",
    "\n",
    "D. Taking a red ball after taking a black and a red ball with reposition (that means after taking a ball I put it back to the urn).\n"
   ]
  },
  {
   "cell_type": "code",
   "execution_count": 10,
   "metadata": {
    "ExecuteTime": {
     "end_time": "2020-09-09T21:52:40.022018Z",
     "start_time": "2020-09-09T21:52:40.018863Z"
    }
   },
   "outputs": [
    {
     "name": "stdout",
     "output_type": "stream",
     "text": [
      "30\n"
     ]
    }
   ],
   "source": [
    "#Inventario\n",
    "\n",
    "blancos = 10\n",
    "rojos = 12\n",
    "negros = 8\n",
    "globos = blanco + rojo + negro\n",
    "\n",
    "print(globos)"
   ]
  },
  {
   "cell_type": "code",
   "execution_count": 11,
   "metadata": {
    "ExecuteTime": {
     "end_time": "2020-09-09T21:52:40.341306Z",
     "start_time": "2020-09-09T21:52:40.338789Z"
    }
   },
   "outputs": [
    {
     "data": {
      "text/plain": [
       "0.3333333333333333"
      ]
     },
     "execution_count": 11,
     "metadata": {},
     "output_type": "execute_result"
    }
   ],
   "source": [
    "#A. Coger un globo blanco: probabilidad del 33%\n",
    "\n",
    "#Casos favorables: los blancos (10)\n",
    "#Casos posibles: todos (30)\n",
    "\n",
    "(blancos / globos)"
   ]
  },
  {
   "cell_type": "code",
   "execution_count": 12,
   "metadata": {
    "ExecuteTime": {
     "end_time": "2020-09-09T21:53:31.420161Z",
     "start_time": "2020-09-09T21:53:31.416651Z"
    },
    "code_folding": []
   },
   "outputs": [
    {
     "data": {
      "text/plain": [
       "0.3448275862068966"
      ]
     },
     "execution_count": 12,
     "metadata": {},
     "output_type": "execute_result"
    }
   ],
   "source": [
    "#B. Coger un globo blanco después de haber cogido uno negro: probabilidad del 34%\n",
    "\n",
    "#Casos favorables: los blancos (10)\n",
    "#Casos posibles: todos menos 1 (30 - 1 = 29)\n",
    "\n",
    "(blancos / (globos - 1) )"
   ]
  },
  {
   "cell_type": "code",
   "execution_count": 17,
   "metadata": {
    "ExecuteTime": {
     "end_time": "2020-09-14T15:44:16.300133Z",
     "start_time": "2020-09-14T15:44:16.297212Z"
    }
   },
   "outputs": [
    {
     "data": {
      "text/plain": [
       "0.09195402298850575"
      ]
     },
     "execution_count": 17,
     "metadata": {},
     "output_type": "execute_result"
    }
   ],
   "source": [
    "#B. Coger un globo blanco después de haber cogido uno negro: 8%\n",
    "\n",
    "#Es condicionada? \n",
    "\n",
    "#Sería P(B | A) = (P(B) * P(A)) / P(A) \n",
    "\n",
    "(negros / globos) * (blancos / (globos - 1)) "
   ]
  },
  {
   "cell_type": "code",
   "execution_count": 14,
   "metadata": {
    "ExecuteTime": {
     "end_time": "2020-09-09T22:06:35.033234Z",
     "start_time": "2020-09-09T22:06:35.029260Z"
    }
   },
   "outputs": [
    {
     "data": {
      "text/plain": [
       "0.39285714285714285"
      ]
     },
     "execution_count": 14,
     "metadata": {},
     "output_type": "execute_result"
    }
   ],
   "source": [
    "#C. Coger un globo rojo después de haber cogido uno negro y uno rojo: probabilidad del 39%\n",
    "\n",
    "#Casos favorables: rojos menos uno (12 - 1)\n",
    "#Casos posibles: todos menos 2\n",
    "\n",
    "((rojos - 1) / (globos - 2))"
   ]
  },
  {
   "cell_type": "code",
   "execution_count": 13,
   "metadata": {
    "ExecuteTime": {
     "end_time": "2020-09-09T22:05:53.576858Z",
     "start_time": "2020-09-09T22:05:53.573579Z"
    }
   },
   "outputs": [
    {
     "data": {
      "text/plain": [
       "0.41379310344827586"
      ]
     },
     "execution_count": 13,
     "metadata": {},
     "output_type": "execute_result"
    }
   ],
   "source": [
    "#D. Coger un globo rojo después de haber cogido uno negro y uno rojo que he devuelto a la urna: probabilidad del 41%\n",
    "# -entonces es como si solamente hubieras sacado uno negro-\n",
    "\n",
    "#Casos favorables: los rojos (12)\n",
    "#Casos posibles: todos\n",
    "\n",
    "((rojos) / (globos - 1))"
   ]
  },
  {
   "cell_type": "markdown",
   "metadata": {},
   "source": [
    "# Challenge 3\n",
    "\n",
    "You are planning a picnic today, but the morning is cloudy. So you look for some data:\n",
    "\n",
    "\n",
    "A. 50% of all rainy days start off cloudy!\n",
    "\n",
    "B. But cloudy mornings are common (about 40% of days start cloudy)\n",
    "\n",
    "C. And this is usually a dry month (only 3 of 30 days (10%) tend to be rainy)\n",
    "\n",
    "What is the chance of rain during the day?\n",
    "\n"
   ]
  },
  {
   "cell_type": "code",
   "execution_count": null,
   "metadata": {},
   "outputs": [],
   "source": [
    "#Condicionada o nuestro amigo Bayes - pero no, te lo dice el mismo enunciado la respuesta"
   ]
  },
  {
   "cell_type": "code",
   "execution_count": null,
   "metadata": {},
   "outputs": [],
   "source": [
    "P (lluviosos | nublado) = 0,5\n",
    "\n",
    "P (lluvioso) = 0,1 \n",
    "\n",
    "P (nublado) = 0,4\n",
    "\n",
    "#Cuál es la posibilidad de lluvia durante el día? Si el día ha empezado nublado, el 50% de que llueva"
   ]
  },
  {
   "cell_type": "markdown",
   "metadata": {},
   "source": [
    "# Challenge 4\n",
    "\n",
    "By conducting a telephone survey, we asked 1000 people if they thought it is necessary to have more street lighting at night.\n",
    "\n",
    "We have met 480 men, 324 of which answered yes and 156 no, as well as 520 women, 351 of which answered yes and 169 no. We wonder if men and women have a different opinion or if gender is irrelevant to the question.\n",
    "\n",
    "(To see more clearly what they told us, it is best to place the data in a table)\n",
    "\n",
    "\n",
    "Consider the following events:\n",
    "- Wants more light (answered yes)\n",
    "- A man answered\n",
    "\n",
    "\n",
    "We ask ourselves if these events are independent, that is, if the fact of wanting more light depends on whether one is male or female. Are these events independent or not?"
   ]
  },
  {
   "cell_type": "code",
   "execution_count": null,
   "metadata": {},
   "outputs": [],
   "source": [
    "#Vamos a ver si son independientes, sabiendo que si lo son, su intersección es la multiplicación de "
   ]
  },
  {
   "cell_type": "code",
   "execution_count": 23,
   "metadata": {
    "ExecuteTime": {
     "end_time": "2020-09-14T16:05:47.212017Z",
     "start_time": "2020-09-14T16:05:47.209455Z"
    }
   },
   "outputs": [],
   "source": [
    "M = 480\n",
    "W = 520\n",
    "\n",
    "Y = 675\n",
    "N = 325\n",
    "\n",
    "MY = 324\n",
    "MN = 156\n",
    "WY = 351\n",
    "WM = 169\n",
    "\n",
    "#Queremos ver si la respuesta afirmativa depende del género\n",
    "\n",
    "#P(Y | M) = P (Y | W) ?"
   ]
  },
  {
   "cell_type": "code",
   "execution_count": 24,
   "metadata": {
    "ExecuteTime": {
     "end_time": "2020-09-14T16:05:47.865628Z",
     "start_time": "2020-09-14T16:05:47.861673Z"
    }
   },
   "outputs": [
    {
     "data": {
      "text/plain": [
       "True"
      ]
     },
     "execution_count": 24,
     "metadata": {},
     "output_type": "execute_result"
    }
   ],
   "source": [
    "(MY / M) == (WY / W)"
   ]
  },
  {
   "cell_type": "code",
   "execution_count": null,
   "metadata": {},
   "outputs": [],
   "source": [
    "#Sí, son independientes ya que da igual el género, da el mismo porcentaje."
   ]
  }
 ],
 "metadata": {
  "kernelspec": {
   "display_name": "Python 3",
   "language": "python",
   "name": "python3"
  },
  "language_info": {
   "codemirror_mode": {
    "name": "ipython",
    "version": 3
   },
   "file_extension": ".py",
   "mimetype": "text/x-python",
   "name": "python",
   "nbconvert_exporter": "python",
   "pygments_lexer": "ipython3",
   "version": "3.7.6"
  },
  "toc": {
   "base_numbering": 1,
   "nav_menu": {},
   "number_sections": true,
   "sideBar": true,
   "skip_h1_title": false,
   "title_cell": "Table of Contents",
   "title_sidebar": "Contents",
   "toc_cell": false,
   "toc_position": {},
   "toc_section_display": true,
   "toc_window_display": false
  },
  "varInspector": {
   "cols": {
    "lenName": 16,
    "lenType": 16,
    "lenVar": 40
   },
   "kernels_config": {
    "python": {
     "delete_cmd_postfix": "",
     "delete_cmd_prefix": "del ",
     "library": "var_list.py",
     "varRefreshCmd": "print(var_dic_list())"
    },
    "r": {
     "delete_cmd_postfix": ") ",
     "delete_cmd_prefix": "rm(",
     "library": "var_list.r",
     "varRefreshCmd": "cat(var_dic_list()) "
    }
   },
   "types_to_exclude": [
    "module",
    "function",
    "builtin_function_or_method",
    "instance",
    "_Feature"
   ],
   "window_display": false
  }
 },
 "nbformat": 4,
 "nbformat_minor": 2
}
